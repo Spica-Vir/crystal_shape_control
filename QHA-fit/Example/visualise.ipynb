{
 "cells": [
  {
   "cell_type": "markdown",
   "id": "0539168e",
   "metadata": {},
   "source": [
    "Script for analysing output, including:  \n",
    "* Transform the fitted data: generate a lattice parameter-temperature table for plotting  \n",
    "* Visualise eigenvalue distribution: generate a matrix indicating the negative eigenvalues\n",
    "* Visualise the temperature dependency of lattice parameters\n",
    "\n",
    "By Spica. Vir., ICL, Mar 23 - 22. spica.h.zhou@gmail.com"
   ]
  },
  {
   "cell_type": "code",
   "execution_count": null,
   "id": "2e413431",
   "metadata": {},
   "outputs": [],
   "source": [
    "import numpy as np\n",
    "from matplotlib import "
   ]
  },
  {
   "cell_type": "code",
   "execution_count": null,
   "id": "831cf302",
   "metadata": {},
   "outputs": [],
   "source": [
    "class Exp_data:\n",
    "    \"\"\"\n",
    "    Class expansion data, store the lattice parameters and their variation with temperature.\n",
    "    \"\"\"\n",
    "    def read(self, inputfile):\n",
    "        \"\"\"\n",
    "        Read the inputfile (QHA fit output) for data\n",
    "        \"\"\"\n",
    "        \n",
    "    "
   ]
  },
  {
   "cell_type": "code",
   "execution_count": null,
   "id": "d2c839ba",
   "metadata": {},
   "outputs": [],
   "source": [
    "class Hess_data:\n",
    "    \"\"\"\n",
    "    Class Hessian data, store the eigenvalue and corresponding eigenvectors\n",
    "    \"\"\"\n",
    "    def read(self, inputfile):\n",
    "        \"\"\"\n",
    "        Read the input file (QHA fit output) for data\n",
    "        \"\"\""
   ]
  },
  {
   "cell_type": "code",
   "execution_count": null,
   "id": "b2f1d71a",
   "metadata": {},
   "outputs": [],
   "source": [
    "def readfile(inputfile):\n",
    "    label_t = 'TEMPERATURE'\n",
    "    label_fe = 'HELMHOLTZ'\n",
    "    label_latt = 'IRREDUCIBLE'\n",
    "    label_hess = 'EIGENVALUES'\n",
    "    \n",
    "    countline = 0\n",
    "    \n",
    "    while countline < len(inputfile):\n",
    "        if label_t in inputfile[countline]:\n",
    "    \n",
    "    "
   ]
  },
  {
   "cell_type": "code",
   "execution_count": null,
   "id": "291920f7",
   "metadata": {},
   "outputs": [],
   "source": [
    "file = open('QHA_fit.dat', \"r\")\n",
    "data_in = file.readlines()\n",
    "file.close()\n",
    "\n",
    "latt_exp, hess_eigs = readfile(data_in)"
   ]
  }
 ],
 "metadata": {
  "kernelspec": {
   "display_name": "Python 3 (ipykernel)",
   "language": "python",
   "name": "python3"
  },
  "language_info": {
   "codemirror_mode": {
    "name": "ipython",
    "version": 3
   },
   "file_extension": ".py",
   "mimetype": "text/x-python",
   "name": "python",
   "nbconvert_exporter": "python",
   "pygments_lexer": "ipython3",
   "version": "3.8.12"
  }
 },
 "nbformat": 4,
 "nbformat_minor": 5
}
