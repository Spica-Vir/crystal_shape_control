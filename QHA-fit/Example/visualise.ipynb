{
 "cells": [
  {
   "cell_type": "markdown",
   "id": "0539168e",
   "metadata": {},
   "source": [
    "Script for analysing output, including:  \n",
    "* Transform the fitted data: generate a lattice parameter-temperature table for plotting  \n",
    "* Visualise eigenvalue distribution: generate a matrix indicating the negative eigenvalues\n",
    "* Visualise the temperature dependency of lattice parameters\n",
    "\n",
    "By Spica. Vir., ICL, Mar 23 - 22. spica.h.zhou@gmail.com"
   ]
  },
  {
   "cell_type": "code",
   "execution_count": null,
   "id": "2e413431",
   "metadata": {},
   "outputs": [],
   "source": [
    "import numpy as np\n",
    "from matplotlib import "
   ]
  }
 ],
 "metadata": {
  "kernelspec": {
   "display_name": "Python 3 (ipykernel)",
   "language": "python",
   "name": "python3"
  },
  "language_info": {
   "codemirror_mode": {
    "name": "ipython",
    "version": 3
   },
   "file_extension": ".py",
   "mimetype": "text/x-python",
   "name": "python",
   "nbconvert_exporter": "python",
   "pygments_lexer": "ipython3",
   "version": "3.8.12"
  }
 },
 "nbformat": 4,
 "nbformat_minor": 5
}
