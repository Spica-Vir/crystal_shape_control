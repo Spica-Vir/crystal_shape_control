{
 "cells": [
  {
   "cell_type": "markdown",
   "id": "880b1de4",
   "metadata": {},
   "source": [
    "To check the connectivity of phonon modes on volumes, fit phonon modes with volumes using polynomial functions up to 5, and fit equations of state. Similar to the QHA module in CRYSTAL17. Required files & input parameters:\n",
    "* Harmonic phonon calculation output by CRYSTAL17  \n",
    "* The name list of harmonic phonon outputs, stored with temperature range in 'HA_input.dat'  \n",
    "\n",
    "By Spica. Vir., ICL, Mar 07 - 22. spica.h.zhou@gmail.com"
   ]
  },
  {
   "cell_type": "code",
   "execution_count": null,
   "id": "3a6d0c61",
   "metadata": {},
   "outputs": [],
   "source": [
    "import math\n",
    "import os\n",
    "import numpy as np"
   ]
  },
  {
   "cell_type": "code",
   "execution_count": null,
   "id": "3da3b3cb",
   "metadata": {},
   "outputs": [],
   "source": [
    "class Mode:\n",
    "    \"\"\"\n",
    "    mode class - store important information for mode with the same rank.\n",
    "        rank, int, the rank of the mode object\n",
    "        npoint, int, number of harmonic frequency calculations\n",
    "        freq, numpy array, npoint * 1 array of frequencies corresponding to the same mode\n",
    "        vol, numpy array, npoint * 1 array of volumes of harmonic input\n",
    "        eigvt, numpy array, npoint * 3 array of corresponding eigenvector\n",
    "    \"\"\"\n",
    "\n",
    "    def __init__(self, rank=0, npoint=0, freq=[], vol=[],  eigvt=[]):\n",
    "        self.rank = rank\n",
    "        self.npoint = npoint\n",
    "        # Unit: THz\n",
    "        self.freq = freq * 2 * math.pi\n",
    "        # Unit: A^3\n",
    "        self.vol = vol\n",
    "        # Unit: A\n",
    "        self.eigvt = eigvt\n",
    "\n",
    "    def continuity(self, wtout, threshold=0.4):\n",
    "        wtout.write('%-15s%6i\\n' % ('FREQUENCY #', self.rank))\n",
    "        wtout.write('%-15s%15s\\n' % ('  VOL (A^3)', 'FREQ (cm^-1)'))\n",
    "        for i in range(self.npoint):\n",
    "            wtout.write('%2s%-15.4f%15.4f\\n' % ('', self.vol[i], self.freq[i]))\n",
    "            for j in range(i + 1, self.npoint):\n",
    "                dot_eigvt = np.dot(self.eigvt[i], self.eigvt[j])\n",
    "                if dot_eigvt < threshold:\n",
    "                    wtout.write('%s%i%s\\n'% ('Warning: Continuity between the above mode \\\n",
    "                    and mode ', j + 1, ' is problematic.'))\n",
    "        \n",
    "        wtout.write('\\n')\n",
    "        \n",
    "        return self\n",
    "        \n",
    "    def poly_fit(self, wtout, power=[2, 3, 4]):\n",
    "        if max(power) > self.npoint - 1:\n",
    "            wtout.write('%s\\n' % 'Error: Lack referece data for polynomial fit.')\n",
    "            \n",
    "            return\n",
    "        \n",
    "        for i in power:\n",
    "            func = np.polynomial.polynomial.Polynomial.fit(self.vol, self.freq, i)\n",
    "            ss_res = np.sum((self.freq - func(self.vol))**2)\n",
    "            ss_tot = np.sum((self.freq - np.mean(self.freq))**2)\n",
    "            r_square = 1 - ss_res / ss_tot\n",
    "            \n",
    "    "
   ]
  }
 ],
 "metadata": {
  "kernelspec": {
   "display_name": "Python 3 (ipykernel)",
   "language": "python",
   "name": "python3"
  },
  "language_info": {
   "codemirror_mode": {
    "name": "ipython",
    "version": 3
   },
   "file_extension": ".py",
   "mimetype": "text/x-python",
   "name": "python",
   "nbconvert_exporter": "python",
   "pygments_lexer": "ipython3",
   "version": "3.8.12"
  }
 },
 "nbformat": 4,
 "nbformat_minor": 5
}
