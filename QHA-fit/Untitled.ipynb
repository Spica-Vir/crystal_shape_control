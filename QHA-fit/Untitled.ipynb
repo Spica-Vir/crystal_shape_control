{
 "cells": [
  {
   "cell_type": "code",
   "execution_count": 7,
   "id": "904bade0",
   "metadata": {},
   "outputs": [
    {
     "name": "stdout",
     "output_type": "stream",
     "text": [
      "[3.55271368e-15 2.00000000e+00 8.00000000e+00 1.80000000e+01\n",
      " 3.20000000e+01 5.00000000e+01]\n"
     ]
    }
   ],
   "source": [
    "import numpy as np\n",
    "\n",
    "x = np.array(range(6), dtype=float)\n",
    "y = 2 * x ** 2\n",
    "\n",
    "param = np.polynomial.polynomial.Polynomial.fit(x, y, 2)\n",
    "\n",
    "print(param(x))"
   ]
  },
  {
   "cell_type": "code",
   "execution_count": null,
   "id": "a8c8b018",
   "metadata": {},
   "outputs": [],
   "source": []
  }
 ],
 "metadata": {
  "kernelspec": {
   "display_name": "Python 3 (ipykernel)",
   "language": "python",
   "name": "python3"
  },
  "language_info": {
   "codemirror_mode": {
    "name": "ipython",
    "version": 3
   },
   "file_extension": ".py",
   "mimetype": "text/x-python",
   "name": "python",
   "nbconvert_exporter": "python",
   "pygments_lexer": "ipython3",
   "version": "3.8.12"
  }
 },
 "nbformat": 4,
 "nbformat_minor": 5
}
