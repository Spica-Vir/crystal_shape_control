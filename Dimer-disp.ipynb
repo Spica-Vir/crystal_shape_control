{
 "cells": [
  {
   "cell_type": "markdown",
   "id": "09c7fbf2",
   "metadata": {},
   "source": [
    "To displace the molecule of a dimer along a given direction defined by a vector. In this case, one of the paracetamol molecule in the dimer is displaced along the NH...O hydrogen bond. The distance ranges from 0.7 to 1.6 times of the equilibrium bond length. "
   ]
  },
  {
   "cell_type": "code",
   "execution_count": 28,
   "id": "9a074c4d",
   "metadata": {},
   "outputs": [
    {
     "name": "stdout",
     "output_type": "stream",
     "text": [
      "WARNING: no lattice vectors found in the output file. lattice = []\n",
      "Full Formula (H18 C16 N2 O4)\n",
      "Reduced Formula: H9C8NO2\n",
      "Charge = 0.0, Spin Mult = 1\n",
      "Sites (40)\n",
      "0 N     0.623827    -4.123233     1.839310\n",
      "1 H    -0.299026    -4.209944     2.230402\n",
      "2 C     1.618378    -4.729564     2.512203\n",
      "3 C     0.720603    -3.280511     0.707304\n",
      "4 O     2.806781    -4.650920     2.188789\n",
      "5 C     1.178334    -5.533423     3.708572\n",
      "6 C     1.800564    -3.277578    -0.168509\n",
      "7 C    -0.361210    -2.434490     0.469402\n",
      "8 H     0.168861    -5.314447     4.002377\n",
      "9 H     1.859457    -5.364860     4.528253\n",
      "10 H     1.240897    -6.591271     3.455923\n",
      "11 H     2.634873    -3.939547    -0.013719\n",
      "12 C     1.805102    -2.402042    -1.257073\n",
      "13 H    -1.201093    -2.441822     1.148926\n",
      "14 C    -0.356893    -1.566653    -0.617219\n",
      "15 H     2.638296    -2.414324    -1.938883\n",
      "16 C     0.735345    -1.543371    -1.477255\n",
      "17 H    -1.203148    -0.916600    -0.789958\n",
      "18 O     0.795287    -0.688458    -2.536668\n",
      "19 H    -0.092948    -0.323560    -2.771140\n",
      "20 N    -2.103812    -0.459767     7.555358\n",
      "21 H    -3.026666    -0.373056     7.946450\n",
      "22 C    -1.109261     0.146564     8.228251\n",
      "23 C    -2.007037    -1.302489     6.423352\n",
      "24 O     0.079141     0.067920     7.904837\n",
      "25 C    -1.549306     0.950423     9.424620\n",
      "26 C    -0.927075    -1.305422     5.547539\n",
      "27 C    -3.088850    -2.148510     6.185450\n",
      "28 H    -2.558778     0.731447     9.718425\n",
      "29 H    -0.868183     0.781860    10.244301\n",
      "30 H    -1.486743     2.008271     9.171970\n",
      "31 H    -0.092767    -0.643453     5.702329\n",
      "32 C    -0.922538    -2.180958     4.458975\n",
      "33 H    -3.928733    -2.141178     6.864974\n",
      "34 C    -3.084532    -3.016347     5.098829\n",
      "35 H    -0.089344    -2.168676     3.777164\n",
      "36 C    -1.992295    -3.039629     4.238792\n",
      "37 H    -3.930788    -3.666400     4.926090\n",
      "38 O    -1.932353    -3.894542     3.179380\n",
      "39 H    -2.820587    -4.259440     2.944908\n"
     ]
    }
   ],
   "source": [
    "from crystal_functions.file_readwrite import Crystal_output\n",
    "from crystal_functions import convert\n",
    "from pymatgen.io.xyz import XYZ\n",
    "\n",
    "output = Crystal_output().read_cry_output('E_AB.out')\n",
    "base_geom = convert.cry_out2pmg(output, vacuum=50)\n",
    "print(base_geom)\n",
    "XYZ(base_geom).write_file('dimer1-4.xyz')"
   ]
  },
  {
   "cell_type": "markdown",
   "id": "574d92e2",
   "metadata": {},
   "source": [
    "1. Put the xyz file into VESTA, atoms connected by 1-4 hydrogen bond are repsectively H1 (Site 1) and O4 (Site 38). Displacing the 2nd molecule, so the vector should be: O4 - H1\n",
    "\n",
    "2. Vary the length of hydrogen bonds. new_vec_h = disp * vec_h; Displacement = new_vec_h - vec_h."
   ]
  },
  {
   "cell_type": "code",
   "execution_count": 31,
   "id": "cce9a6db",
   "metadata": {},
   "outputs": [],
   "source": [
    "import numpy as np\n",
    "import copy\n",
    "\n",
    "vec_h = (base_geom.sites[38].coords - base_geom.sites[1].coords)\n",
    "shrink_list = np.linspace(0.7,1.6,10)\n",
    "\n",
    "for shrink in shrink_list:\n",
    "    disp = vec_h * (shrink - 1)\n",
    "    disp_geom = copy.deepcopy(base_geom)\n",
    "    for i in range(20, 40):\n",
    "        disp_geom.sites[i].coords += disp\n",
    "    \n",
    "    filename = 'disp-' + str(round(shrink, 2)) + '.xyz'\n",
    "    XYZ(disp_geom).write_file(filename)\n"
   ]
  }
 ],
 "metadata": {
  "kernelspec": {
   "display_name": "Python 3 (ipykernel)",
   "language": "python",
   "name": "python3"
  },
  "language_info": {
   "codemirror_mode": {
    "name": "ipython",
    "version": 3
   },
   "file_extension": ".py",
   "mimetype": "text/x-python",
   "name": "python",
   "nbconvert_exporter": "python",
   "pygments_lexer": "ipython3",
   "version": "3.8.12"
  }
 },
 "nbformat": 4,
 "nbformat_minor": 5
}
